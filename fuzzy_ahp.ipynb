{
  "cells": [
    {
      "cell_type": "markdown",
      "metadata": {
        "id": "view-in-github",
        "colab_type": "text"
      },
      "source": [
        "<a href=\"https://colab.research.google.com/github/SombraDiego/-FAHP---Modelo-de-Apoio-a-Decis-o-para-Auditoria-de-C-digo-Fonte/blob/main/fuzzy_ahp.ipynb\" target=\"_parent\"><img src=\"https://colab.research.google.com/assets/colab-badge.svg\" alt=\"Open In Colab\"/></a>"
      ]
    },
    {
      "cell_type": "markdown",
      "source": [
        "# Modelo de Apoio a Decisão para Auditoria de Código Fonte\n",
        "\n",
        "\n"
      ],
      "metadata": {
        "id": "DBAbxr1-Jzit"
      },
      "id": "DBAbxr1-Jzit"
    },
    {
      "cell_type": "markdown",
      "source": [
        "# Com a incorporação da biblioteca Python (pyDecision.algorithm), foi possível desenvolver um modelo de tomada de decisão. Os resultados são derivados da entrada de dados fornecida pelos especialistas. O modelo FAHP desempenhou um papel crucial ao fornecer pesos, facilitando a ordenação dos critérios de risco e módulos do sistema, priorizando-os de acordo. Além disso, o modelo contribuiu significativamente para a análise de consistência."
      ],
      "metadata": {
        "id": "prQkbw3eG2Bx"
      },
      "id": "prQkbw3eG2Bx"
    },
    {
      "cell_type": "code",
      "execution_count": null,
      "id": "1fe6a4bc",
      "metadata": {
        "colab": {
          "base_uri": "https://localhost:8080/"
        },
        "id": "1fe6a4bc",
        "outputId": "0aca1d86-0708-4516-c84d-81951a2fbc3c"
      },
      "outputs": [
        {
          "output_type": "stream",
          "name": "stdout",
          "text": [
            "Collecting pyDecision\n",
            "  Downloading pyDecision-4.3.9-py3-none-any.whl (104 kB)\n",
            "\u001b[?25l     \u001b[90m━━━━━━━━━━━━━━━━━━━━━━━━━━━━━━━━━━━━━━━━\u001b[0m \u001b[32m0.0/104.6 kB\u001b[0m \u001b[31m?\u001b[0m eta \u001b[36m-:--:--\u001b[0m\r\u001b[2K     \u001b[91m━━━━━━━━━━━━━━━━━━━━━━━━━━━━━━━━━━━\u001b[0m\u001b[90m╺\u001b[0m\u001b[90m━━━━\u001b[0m \u001b[32m92.2/104.6 kB\u001b[0m \u001b[31m2.4 MB/s\u001b[0m eta \u001b[36m0:00:01\u001b[0m\r\u001b[2K     \u001b[90m━━━━━━━━━━━━━━━━━━━━━━━━━━━━━━━━━━━━━━━━\u001b[0m \u001b[32m104.6/104.6 kB\u001b[0m \u001b[31m2.1 MB/s\u001b[0m eta \u001b[36m0:00:00\u001b[0m\n",
            "\u001b[?25hRequirement already satisfied: matplotlib in /usr/local/lib/python3.10/dist-packages (from pyDecision) (3.7.1)\n",
            "Requirement already satisfied: numpy in /usr/local/lib/python3.10/dist-packages (from pyDecision) (1.23.5)\n",
            "Requirement already satisfied: llmx in /usr/local/lib/python3.10/dist-packages (from pyDecision) (0.0.15a0)\n",
            "Collecting openai (from pyDecision)\n",
            "  Downloading openai-1.3.7-py3-none-any.whl (221 kB)\n",
            "\u001b[2K     \u001b[90m━━━━━━━━━━━━━━━━━━━━━━━━━━━━━━━━━━━━━━━━\u001b[0m \u001b[32m221.4/221.4 kB\u001b[0m \u001b[31m12.6 MB/s\u001b[0m eta \u001b[36m0:00:00\u001b[0m\n",
            "\u001b[?25hRequirement already satisfied: pandas in /usr/local/lib/python3.10/dist-packages (from pyDecision) (1.5.3)\n",
            "Requirement already satisfied: scikit-learn in /usr/local/lib/python3.10/dist-packages (from pyDecision) (1.2.2)\n",
            "Requirement already satisfied: scipy in /usr/local/lib/python3.10/dist-packages (from pyDecision) (1.11.4)\n",
            "Requirement already satisfied: pydantic in /usr/local/lib/python3.10/dist-packages (from llmx->pyDecision) (1.10.13)\n",
            "Collecting tiktoken (from llmx->pyDecision)\n",
            "  Downloading tiktoken-0.5.2-cp310-cp310-manylinux_2_17_x86_64.manylinux2014_x86_64.whl (2.0 MB)\n",
            "\u001b[2K     \u001b[90m━━━━━━━━━━━━━━━━━━━━━━━━━━━━━━━━━━━━━━━━\u001b[0m \u001b[32m2.0/2.0 MB\u001b[0m \u001b[31m40.7 MB/s\u001b[0m eta \u001b[36m0:00:00\u001b[0m\n",
            "\u001b[?25hRequirement already satisfied: diskcache in /usr/local/lib/python3.10/dist-packages (from llmx->pyDecision) (5.6.3)\n",
            "Collecting cohere (from llmx->pyDecision)\n",
            "  Downloading cohere-4.37-py3-none-any.whl (48 kB)\n",
            "\u001b[2K     \u001b[90m━━━━━━━━━━━━━━━━━━━━━━━━━━━━━━━━━━━━━━━━\u001b[0m \u001b[32m48.9/48.9 kB\u001b[0m \u001b[31m7.1 MB/s\u001b[0m eta \u001b[36m0:00:00\u001b[0m\n",
            "\u001b[?25hRequirement already satisfied: google.auth in /usr/local/lib/python3.10/dist-packages (from llmx->pyDecision) (2.17.3)\n",
            "Requirement already satisfied: typer in /usr/local/lib/python3.10/dist-packages (from llmx->pyDecision) (0.9.0)\n",
            "Requirement already satisfied: pyyaml in /usr/local/lib/python3.10/dist-packages (from llmx->pyDecision) (6.0.1)\n",
            "Requirement already satisfied: contourpy>=1.0.1 in /usr/local/lib/python3.10/dist-packages (from matplotlib->pyDecision) (1.2.0)\n",
            "Requirement already satisfied: cycler>=0.10 in /usr/local/lib/python3.10/dist-packages (from matplotlib->pyDecision) (0.12.1)\n",
            "Requirement already satisfied: fonttools>=4.22.0 in /usr/local/lib/python3.10/dist-packages (from matplotlib->pyDecision) (4.46.0)\n",
            "Requirement already satisfied: kiwisolver>=1.0.1 in /usr/local/lib/python3.10/dist-packages (from matplotlib->pyDecision) (1.4.5)\n",
            "Requirement already satisfied: packaging>=20.0 in /usr/local/lib/python3.10/dist-packages (from matplotlib->pyDecision) (23.2)\n",
            "Requirement already satisfied: pillow>=6.2.0 in /usr/local/lib/python3.10/dist-packages (from matplotlib->pyDecision) (9.4.0)\n",
            "Requirement already satisfied: pyparsing>=2.3.1 in /usr/local/lib/python3.10/dist-packages (from matplotlib->pyDecision) (3.1.1)\n",
            "Requirement already satisfied: python-dateutil>=2.7 in /usr/local/lib/python3.10/dist-packages (from matplotlib->pyDecision) (2.8.2)\n",
            "Requirement already satisfied: anyio<4,>=3.5.0 in /usr/local/lib/python3.10/dist-packages (from openai->pyDecision) (3.7.1)\n",
            "Requirement already satisfied: distro<2,>=1.7.0 in /usr/lib/python3/dist-packages (from openai->pyDecision) (1.7.0)\n",
            "Collecting httpx<1,>=0.23.0 (from openai->pyDecision)\n",
            "  Downloading httpx-0.25.2-py3-none-any.whl (74 kB)\n",
            "\u001b[2K     \u001b[90m━━━━━━━━━━━━━━━━━━━━━━━━━━━━━━━━━━━━━━━━\u001b[0m \u001b[32m75.0/75.0 kB\u001b[0m \u001b[31m11.2 MB/s\u001b[0m eta \u001b[36m0:00:00\u001b[0m\n",
            "\u001b[?25hRequirement already satisfied: sniffio in /usr/local/lib/python3.10/dist-packages (from openai->pyDecision) (1.3.0)\n",
            "Requirement already satisfied: tqdm>4 in /usr/local/lib/python3.10/dist-packages (from openai->pyDecision) (4.66.1)\n",
            "Requirement already satisfied: typing-extensions<5,>=4.5 in /usr/local/lib/python3.10/dist-packages (from openai->pyDecision) (4.5.0)\n",
            "Requirement already satisfied: pytz>=2020.1 in /usr/local/lib/python3.10/dist-packages (from pandas->pyDecision) (2023.3.post1)\n",
            "Requirement already satisfied: joblib>=1.1.1 in /usr/local/lib/python3.10/dist-packages (from scikit-learn->pyDecision) (1.3.2)\n",
            "Requirement already satisfied: threadpoolctl>=2.0.0 in /usr/local/lib/python3.10/dist-packages (from scikit-learn->pyDecision) (3.2.0)\n",
            "Requirement already satisfied: idna>=2.8 in /usr/local/lib/python3.10/dist-packages (from anyio<4,>=3.5.0->openai->pyDecision) (3.6)\n",
            "Requirement already satisfied: exceptiongroup in /usr/local/lib/python3.10/dist-packages (from anyio<4,>=3.5.0->openai->pyDecision) (1.2.0)\n",
            "Requirement already satisfied: certifi in /usr/local/lib/python3.10/dist-packages (from httpx<1,>=0.23.0->openai->pyDecision) (2023.11.17)\n",
            "Collecting httpcore==1.* (from httpx<1,>=0.23.0->openai->pyDecision)\n",
            "  Downloading httpcore-1.0.2-py3-none-any.whl (76 kB)\n",
            "\u001b[2K     \u001b[90m━━━━━━━━━━━━━━━━━━━━━━━━━━━━━━━━━━━━━━━━\u001b[0m \u001b[32m76.9/76.9 kB\u001b[0m \u001b[31m12.1 MB/s\u001b[0m eta \u001b[36m0:00:00\u001b[0m\n",
            "\u001b[?25hCollecting h11<0.15,>=0.13 (from httpcore==1.*->httpx<1,>=0.23.0->openai->pyDecision)\n",
            "  Downloading h11-0.14.0-py3-none-any.whl (58 kB)\n",
            "\u001b[2K     \u001b[90m━━━━━━━━━━━━━━━━━━━━━━━━━━━━━━━━━━━━━━━━\u001b[0m \u001b[32m58.3/58.3 kB\u001b[0m \u001b[31m9.5 MB/s\u001b[0m eta \u001b[36m0:00:00\u001b[0m\n",
            "\u001b[?25hRequirement already satisfied: six>=1.5 in /usr/local/lib/python3.10/dist-packages (from python-dateutil>=2.7->matplotlib->pyDecision) (1.16.0)\n",
            "Requirement already satisfied: aiohttp<4.0,>=3.0 in /usr/local/lib/python3.10/dist-packages (from cohere->llmx->pyDecision) (3.9.1)\n",
            "Collecting backoff<3.0,>=2.0 (from cohere->llmx->pyDecision)\n",
            "  Downloading backoff-2.2.1-py3-none-any.whl (15 kB)\n",
            "Collecting fastavro<2.0,>=1.8 (from cohere->llmx->pyDecision)\n",
            "  Downloading fastavro-1.9.1-cp310-cp310-manylinux_2_17_x86_64.manylinux2014_x86_64.whl (3.1 MB)\n",
            "\u001b[2K     \u001b[90m━━━━━━━━━━━━━━━━━━━━━━━━━━━━━━━━━━━━━━━━\u001b[0m \u001b[32m3.1/3.1 MB\u001b[0m \u001b[31m39.7 MB/s\u001b[0m eta \u001b[36m0:00:00\u001b[0m\n",
            "\u001b[?25hCollecting importlib_metadata<7.0,>=6.0 (from cohere->llmx->pyDecision)\n",
            "  Downloading importlib_metadata-6.11.0-py3-none-any.whl (23 kB)\n",
            "Requirement already satisfied: requests<3.0.0,>=2.25.0 in /usr/local/lib/python3.10/dist-packages (from cohere->llmx->pyDecision) (2.31.0)\n",
            "Requirement already satisfied: urllib3<3,>=1.26 in /usr/local/lib/python3.10/dist-packages (from cohere->llmx->pyDecision) (2.0.7)\n",
            "Requirement already satisfied: cachetools<6.0,>=2.0.0 in /usr/local/lib/python3.10/dist-packages (from google.auth->llmx->pyDecision) (5.3.2)\n",
            "Requirement already satisfied: pyasn1-modules>=0.2.1 in /usr/local/lib/python3.10/dist-packages (from google.auth->llmx->pyDecision) (0.3.0)\n",
            "Requirement already satisfied: rsa<5,>=3.1.4 in /usr/local/lib/python3.10/dist-packages (from google.auth->llmx->pyDecision) (4.9)\n",
            "Requirement already satisfied: regex>=2022.1.18 in /usr/local/lib/python3.10/dist-packages (from tiktoken->llmx->pyDecision) (2023.6.3)\n",
            "Requirement already satisfied: click<9.0.0,>=7.1.1 in /usr/local/lib/python3.10/dist-packages (from typer->llmx->pyDecision) (8.1.7)\n",
            "Requirement already satisfied: attrs>=17.3.0 in /usr/local/lib/python3.10/dist-packages (from aiohttp<4.0,>=3.0->cohere->llmx->pyDecision) (23.1.0)\n",
            "Requirement already satisfied: multidict<7.0,>=4.5 in /usr/local/lib/python3.10/dist-packages (from aiohttp<4.0,>=3.0->cohere->llmx->pyDecision) (6.0.4)\n",
            "Requirement already satisfied: yarl<2.0,>=1.0 in /usr/local/lib/python3.10/dist-packages (from aiohttp<4.0,>=3.0->cohere->llmx->pyDecision) (1.9.3)\n",
            "Requirement already satisfied: frozenlist>=1.1.1 in /usr/local/lib/python3.10/dist-packages (from aiohttp<4.0,>=3.0->cohere->llmx->pyDecision) (1.4.0)\n",
            "Requirement already satisfied: aiosignal>=1.1.2 in /usr/local/lib/python3.10/dist-packages (from aiohttp<4.0,>=3.0->cohere->llmx->pyDecision) (1.3.1)\n",
            "Requirement already satisfied: async-timeout<5.0,>=4.0 in /usr/local/lib/python3.10/dist-packages (from aiohttp<4.0,>=3.0->cohere->llmx->pyDecision) (4.0.3)\n",
            "Requirement already satisfied: zipp>=0.5 in /usr/local/lib/python3.10/dist-packages (from importlib_metadata<7.0,>=6.0->cohere->llmx->pyDecision) (3.17.0)\n",
            "Requirement already satisfied: pyasn1<0.6.0,>=0.4.6 in /usr/local/lib/python3.10/dist-packages (from pyasn1-modules>=0.2.1->google.auth->llmx->pyDecision) (0.5.1)\n",
            "Requirement already satisfied: charset-normalizer<4,>=2 in /usr/local/lib/python3.10/dist-packages (from requests<3.0.0,>=2.25.0->cohere->llmx->pyDecision) (3.3.2)\n",
            "Installing collected packages: importlib_metadata, h11, fastavro, backoff, tiktoken, httpcore, httpx, cohere, openai, pyDecision\n",
            "  Attempting uninstall: importlib_metadata\n",
            "    Found existing installation: importlib-metadata 7.0.0\n",
            "    Uninstalling importlib-metadata-7.0.0:\n",
            "      Successfully uninstalled importlib-metadata-7.0.0\n",
            "Successfully installed backoff-2.2.1 cohere-4.37 fastavro-1.9.1 h11-0.14.0 httpcore-1.0.2 httpx-0.25.2 importlib_metadata-6.11.0 openai-1.3.7 pyDecision-4.3.9 tiktoken-0.5.2\n",
            "Requirement already satisfied: numpy in /usr/local/lib/python3.10/dist-packages (1.23.5)\n"
          ]
        }
      ],
      "source": [
        "!pip install pyDecision\n",
        "!pip install numpy"
      ]
    },
    {
      "cell_type": "code",
      "execution_count": null,
      "id": "e126c909",
      "metadata": {
        "id": "e126c909"
      },
      "outputs": [],
      "source": [
        "# Required Libraries\n",
        "import numpy as np\n",
        "\n",
        "# Fuzzy AHP\n",
        "from pyDecision.algorithm import fuzzy_ahp_method"
      ]
    },
    {
      "cell_type": "code",
      "execution_count": null,
      "id": "b7e52ee8",
      "metadata": {
        "id": "b7e52ee8"
      },
      "outputs": [],
      "source": [
        "# Function: Fuzzy AHP\n",
        "def fahp(dataset):\n",
        "    row_sum = []\n",
        "    s_row   = []\n",
        "    f_w     = []\n",
        "    d_w     = []\n",
        "    #inc_rat = np.array([0, 0, 0, 0.58, 0.9, 1.12, 1.24, 1.32, 1.41, 1.45])\n",
        "    inc_rat = np.array([0, 0, 0, 0.58, 0.9, 1.12, 1.24, 1.32, 1.41, 1.45, 1.49, 1.51, 1.48, 1.56, 1.57, 1.59]) #Novo índice de consistência randômico\n",
        "    X       = [(item[0] + 4*item[1] + item[2])/6 for i in range(0, len(dataset)) for item in dataset[i] ]\n",
        "    X       = np.asarray(X)\n",
        "    X       = np.reshape(X, (len(dataset), len(dataset)))\n",
        "    for i in range(0, len(dataset)):\n",
        "        a, b, c = 1, 1, 1\n",
        "        for j in range(0, len(dataset[i])):\n",
        "            d, e, f = dataset[i][j]\n",
        "            a, b, c = a*d, b*e, c*f\n",
        "        row_sum.append( (a, b, c) )\n",
        "    L, M, U = 0, 0, 0\n",
        "    for i in range(0, len(row_sum)):\n",
        "        a, b, c = row_sum[i]\n",
        "        a, b, c = a**(1/len(dataset)), b**(1/len(dataset)), c**(1/len(dataset))\n",
        "        s_row.append( ( a, b, c ) )\n",
        "        L = L + a\n",
        "        M = M + b\n",
        "        U = U + c\n",
        "    for i in range(0, len(s_row)):\n",
        "        a, b, c = s_row[i]\n",
        "        a, b, c = a*(U**-1), b*(M**-1), c*(L**-1)\n",
        "        f_w.append( ( a, b, c ) )\n",
        "        d_w.append( (a + b + c)/3 )\n",
        "    n_w      = [item/sum(d_w) for item in d_w]\n",
        "    vector   = np.sum(X*n_w, axis = 1)/n_w\n",
        "    lamb_max = np.mean(vector)\n",
        "    cons_ind = (lamb_max - X.shape[1])/(X.shape[1] - 1)\n",
        "    rc       = cons_ind/inc_rat[X.shape[1]]\n",
        "    return f_w, d_w, n_w, rc"
      ]
    },
    {
      "cell_type": "markdown",
      "id": "96379747",
      "metadata": {
        "id": "96379747"
      },
      "source": [
        "Critério Pesos:"
      ]
    },
    {
      "cell_type": "code",
      "execution_count": null,
      "id": "2126f6b3",
      "metadata": {
        "id": "2126f6b3"
      },
      "outputs": [],
      "source": [
        "# Dataset\n",
        "dataset = list([\n",
        "[(1, 1, 1),(6,7,8),(2,3,4),(9,9,9),(4,5,6)],\n",
        "[(1/8, 1/7, 1/6),(1, 1, 1),(1/6, 1/5, 1/4),(2,3,4),(1/4, 1/3, 1/2)],\n",
        "[(1/4, 1/3, 1/2),(4,5,6),(1, 1, 1),(6,7,8),(2,3,4)],\n",
        "[(1/9, 1/9, 1/9),(1/4, 1/3, 1/2),(1/8, 1/7, 1/6),(1, 1, 1),(1/6, 1/5, 1/4)],\n",
        "[(1/6, 1/5, 1/4),(2,3,4),(1/4, 1/3, 1/2),(4,5,6),(1, 1, 1)],\n",
        "])"
      ]
    },
    {
      "cell_type": "code",
      "execution_count": null,
      "id": "a24a6622",
      "metadata": {
        "id": "a24a6622"
      },
      "outputs": [],
      "source": [
        "# Call Fuzzy AHP Function\n",
        "fuzzy_weights, defuzzified_weights, normalized_weights, rc = fahp(dataset)"
      ]
    },
    {
      "cell_type": "code",
      "execution_count": null,
      "id": "690a12d7",
      "metadata": {
        "colab": {
          "base_uri": "https://localhost:8080/"
        },
        "id": "690a12d7",
        "outputId": "af7e5745-88d0-47fe-8faf-41efca11f6ba"
      },
      "outputs": [
        {
          "output_type": "stream",
          "name": "stdout",
          "text": [
            "r1:  [0.371 0.51  0.69 ]\n",
            "r2:  [0.044 0.064 0.094]\n",
            "r3:  [0.181 0.264 0.387]\n",
            "r4:  [0.025 0.033 0.046]\n",
            "r5:  [0.088 0.13  0.193]\n"
          ]
        }
      ],
      "source": [
        "# Fuzzy Weigths (Extensões Sintéticas)\n",
        "for i in range(0, len(fuzzy_weights)):\n",
        "  print('r'+str(i+1)+': ', np.around(fuzzy_weights[i], 3))"
      ]
    },
    {
      "cell_type": "code",
      "execution_count": null,
      "id": "1d8c7f68",
      "metadata": {
        "colab": {
          "base_uri": "https://localhost:8080/"
        },
        "id": "1d8c7f68",
        "outputId": "6dd122fc-ebde-4ad6-d9ed-307aeeb302b3"
      },
      "outputs": [
        {
          "output_type": "stream",
          "name": "stdout",
          "text": [
            "r1:  0.523\n",
            "r2:  0.067\n",
            "r3:  0.277\n",
            "r4:  0.035\n",
            "r5:  0.137\n"
          ]
        }
      ],
      "source": [
        "# Crisp Weigths\n",
        "for i in range(0, len(defuzzified_weights)):\n",
        "  print('r'+str(i+1)+': ', round(defuzzified_weights[i], 3))"
      ]
    },
    {
      "cell_type": "code",
      "execution_count": null,
      "id": "c09893f2",
      "metadata": {
        "colab": {
          "base_uri": "https://localhost:8080/"
        },
        "id": "c09893f2",
        "outputId": "b12e9d94-f0f2-487d-8f3e-eb6a06fd172c"
      },
      "outputs": [
        {
          "output_type": "stream",
          "name": "stdout",
          "text": [
            "r1:  0.503\n",
            "r2:  0.065\n",
            "r3:  0.267\n",
            "r4:  0.033\n",
            "r5:  0.132\n"
          ]
        }
      ],
      "source": [
        "# Normalized Weigths\n",
        "for i in range(0, len(normalized_weights)):\n",
        "  print('r'+str(i+1)+': ', round(normalized_weights[i], 3))"
      ]
    },
    {
      "cell_type": "code",
      "execution_count": null,
      "id": "9a479fee",
      "metadata": {
        "colab": {
          "base_uri": "https://localhost:8080/"
        },
        "id": "9a479fee",
        "outputId": "80e0ffea-b14a-4a63-86fb-8f2578d68e11"
      },
      "outputs": [
        {
          "output_type": "stream",
          "name": "stdout",
          "text": [
            "RC: 0.06\n",
            "The solution is consistent\n"
          ]
        }
      ],
      "source": [
        "# Consistency Ratio\n",
        "print('RC: ' + str(round(rc, 2)))\n",
        "if (rc > 0.10):\n",
        "  print('The solution is inconsistent, the pairwise comparisons must be reviewed')\n",
        "else:\n",
        "  print('The solution is consistent')"
      ]
    },
    {
      "cell_type": "markdown",
      "source": [
        "Vulnerabilidade"
      ],
      "metadata": {
        "id": "rzkZSOuEVLhr"
      },
      "id": "rzkZSOuEVLhr"
    },
    {
      "cell_type": "code",
      "source": [
        "# Dataset\n",
        "dataset2 = list([\n",
        "[(1, 1, 1),(1/8, 1/7, 1/6),(1/6, 1/5, 1/4),(1/6, 1/5, 1/4),(1/4, 1/3, 1/2),(1/4, 1/3, 1/2),(1/8, 1/7, 1/6),(1/8, 1/7, 1/6),(1/9, 1/9, 1/9)],\n",
        "[(6,7,8),(1, 1, 1),(4,5,6),(4,5,6),(4,5,6),(6,7,8),(1, 1, 1),(1, 1, 1),(1/4, 1/3, 1/2)],\n",
        "[(4,5,6),(1/6, 1/5, 1/4),(1, 1, 1),(1, 1, 1),(2,3,4),(2,3,4),(1/4, 1/3, 1/2),(1/4, 1/3, 1/2),(1/6, 1/5, 1/4)],\n",
        "[(4,5,6),(1/6, 1/5, 1/4),(1, 1, 1),(1, 1, 1),(2,3,4),(2,3,4),(1/4, 1/3, 1/2),(1/4, 1/3, 1/2),(1/6, 1/5, 1/4)],\n",
        "[(2,3,4),(1/6, 1/5, 1/4),(1/4, 1/3, 1/2),(1/4, 1/3, 1/2),(1, 1, 1),(1, 1, 1),(1/6, 1/5, 1/4),(1/6, 1/5, 1/4),(1/8, 1/7, 1/6)],\n",
        "[(2,3,4),(1/8, 1/7, 1/6),(1/4, 1/3, 1/2),(1/4, 1/3, 1/2),(1, 1, 1),(1, 1, 1),(1/6, 1/5, 1/4),(1/6, 1/5, 1/4),(1/9, 1/9, 1/9)],\n",
        "[(6,7,8),(1, 1, 1),(2,3,4),(2,3,4),(4,5,6),(4,5,6),(1, 1, 1),(1, 1, 1),(1/4, 1/3, 1/2)],\n",
        "[(6,7,8),(1, 1, 1),(2,3,4),(2,3,4),(4,5,6),(4,5,6),(1, 1, 1),(1, 1, 1),(1/4, 1/3, 1/2)],\n",
        "[(9,9,9),(2,3,4),(4,5,6),(4,5,6),(6,7,8),(9,9,9),(2,3,4),(2,3,4),(1, 1, 1)]\n",
        "])"
      ],
      "metadata": {
        "id": "02th9D_sVSoV"
      },
      "id": "02th9D_sVSoV",
      "execution_count": null,
      "outputs": []
    },
    {
      "cell_type": "code",
      "source": [
        "# Call Fuzzy AHP Function\n",
        "fuzzy_weights, defuzzified_weights, normalized_weights, rc = fahp(dataset2)"
      ],
      "metadata": {
        "id": "MPtveMrCVamH"
      },
      "id": "MPtveMrCVamH",
      "execution_count": null,
      "outputs": []
    },
    {
      "cell_type": "code",
      "source": [
        "# Fuzzy Weigths (Extensões Sintéticas)\n",
        "for i in range(0, len(fuzzy_weights)):\n",
        "  print('m'+str(i+1)+': ', np.around(fuzzy_weights[i], 3))"
      ],
      "metadata": {
        "colab": {
          "base_uri": "https://localhost:8080/"
        },
        "id": "aKlAMclRVgL7",
        "outputId": "d0b16fe0-64cf-43d9-8c27-08fe6354479a"
      },
      "id": "aKlAMclRVgL7",
      "execution_count": null,
      "outputs": [
        {
          "output_type": "stream",
          "name": "stdout",
          "text": [
            "m1:  [0.012 0.017 0.025]\n",
            "m2:  [0.13  0.176 0.243]\n",
            "m3:  [0.043 0.063 0.095]\n",
            "m4:  [0.043 0.063 0.095]\n",
            "m5:  [0.022 0.032 0.047]\n",
            "m6:  [0.021 0.03  0.043]\n",
            "m7:  [0.106 0.152 0.215]\n",
            "m8:  [0.106 0.152 0.215]\n",
            "m9:  [0.218 0.316 0.442]\n"
          ]
        }
      ]
    },
    {
      "cell_type": "code",
      "source": [
        "# Crisp Weigths\n",
        "for i in range(0, len(defuzzified_weights)):\n",
        "  print('m'+str(i+1)+': ', round(defuzzified_weights[i], 3))"
      ],
      "metadata": {
        "colab": {
          "base_uri": "https://localhost:8080/"
        },
        "id": "NlQ4hHHWVs6C",
        "outputId": "510f4a10-2bc9-4bdb-eae6-971db1e86509"
      },
      "id": "NlQ4hHHWVs6C",
      "execution_count": null,
      "outputs": [
        {
          "output_type": "stream",
          "name": "stdout",
          "text": [
            "m1:  0.018\n",
            "m2:  0.183\n",
            "m3:  0.067\n",
            "m4:  0.067\n",
            "m5:  0.034\n",
            "m6:  0.031\n",
            "m7:  0.158\n",
            "m8:  0.158\n",
            "m9:  0.325\n"
          ]
        }
      ]
    },
    {
      "cell_type": "code",
      "source": [
        "# Normalized Weigths\n",
        "for i in range(0, len(normalized_weights)):\n",
        "  print('m'+str(i+1)+': ', round(normalized_weights[i], 3))"
      ],
      "metadata": {
        "colab": {
          "base_uri": "https://localhost:8080/"
        },
        "id": "S2ikzd09V7Xo",
        "outputId": "93d9ea4f-998e-405a-a432-de4b675e3342"
      },
      "id": "S2ikzd09V7Xo",
      "execution_count": null,
      "outputs": [
        {
          "output_type": "stream",
          "name": "stdout",
          "text": [
            "m1:  0.017\n",
            "m2:  0.176\n",
            "m3:  0.065\n",
            "m4:  0.065\n",
            "m5:  0.032\n",
            "m6:  0.03\n",
            "m7:  0.152\n",
            "m8:  0.152\n",
            "m9:  0.312\n"
          ]
        }
      ]
    },
    {
      "cell_type": "code",
      "source": [
        "# Consistency Ratio\n",
        "print('RC: ' + str(round(rc, 2)))\n",
        "if (rc > 0.10):\n",
        "  print('The solution is inconsistent, the pairwise comparisons must be reviewed')\n",
        "else:\n",
        "  print('The solution is consistent')"
      ],
      "metadata": {
        "colab": {
          "base_uri": "https://localhost:8080/"
        },
        "id": "tqg9NBF1WKTH",
        "outputId": "00f4295b-62dc-4e1b-8d7e-e09be813a44d"
      },
      "id": "tqg9NBF1WKTH",
      "execution_count": null,
      "outputs": [
        {
          "output_type": "stream",
          "name": "stdout",
          "text": [
            "RC: 0.04\n",
            "The solution is consistent\n"
          ]
        }
      ]
    },
    {
      "cell_type": "markdown",
      "id": "a129d7b1",
      "metadata": {
        "id": "a129d7b1"
      },
      "source": [
        "Code Smells"
      ]
    },
    {
      "cell_type": "code",
      "execution_count": null,
      "id": "291c5613",
      "metadata": {
        "id": "291c5613"
      },
      "outputs": [],
      "source": [
        "# Dataset\n",
        "dataset2 = list([\n",
        "[(1, 1, 1),(1/8, 1/7, 1/6),(1/8, 1/7, 1/6),(1/6, 1/5, 1/4),(1, 1, 1),(1/4, 1/3, 1/2),(1, 1, 1),(1/8, 1/7, 1/6),(1/9, 1/9, 1/9)],\n",
        "[(6,7,8),(1, 1, 1),(1, 1, 1),(4,5,6),(6,7,8),(4,5,6),(9,9,9),(2,3,4),(1, 1, 1)],\n",
        "[(6,7,8),(1, 1, 1),(1, 1, 1),(2,3,4),(4,5,6),(4,5,6),(6,7,8),(1, 1, 1),(1/4, 1/3, 1/2)],\n",
        "[(4,5,6),(1/6, 1/5, 1/4),(1/4, 1/3, 1/2),(1, 1, 1),(2,3,4),(2,3,4),(6,7,8),(1/4, 1/3, 1/2),(1/6, 1/5, 1/4)],\n",
        "[(1, 1, 1),(1/8, 1/7, 1/6),(1/6, 1/5, 1/4),(1/4, 1/3, 1/2),(1, 1, 1),(1, 1, 1),(2,3,4),(1/6, 1/5, 1/4),(1/8, 1/7, 1/6)],\n",
        "[(2,3,4),(1/6, 1/5, 1/4),(1/6, 1/5, 1/4),(1/4, 1/3, 1/2),(1, 1, 1),(1, 1, 1),(2,3,4),(1/6, 1/5, 1/4),(1/8, 1/7, 1/6)],\n",
        "[(1, 1, 1),(1/9, 1/9, 1/9),(1/8, 1/7, 1/6),(1/8, 1/7, 1/6),(1/4, 1/3, 1/2),(1/4, 1/3, 1/2),(1, 1, 1),(1/8, 1/7, 1/6),(1/9, 1/9, 1/9)],\n",
        "[(6,7,8),(1/4, 1/3, 1/2),(1, 1, 1),(2,3,4),(4,5,6),(4,5,6),(6,7,8),(1, 1, 1),(1/4, 1/3, 1/2)],\n",
        "[(9,9,9),(1, 1, 1),(2,3,4),(4,5,6),(6,7,8),(6,7,8),(9,9,9),(2,3,4),(1, 1, 1)]\n",
        "])"
      ]
    },
    {
      "cell_type": "code",
      "execution_count": null,
      "id": "9b63d12a",
      "metadata": {
        "id": "9b63d12a"
      },
      "outputs": [],
      "source": [
        "# Call Fuzzy AHP Function\n",
        "fuzzy_weights, defuzzified_weights, normalized_weights, rc = fahp(dataset2)"
      ]
    },
    {
      "cell_type": "code",
      "execution_count": null,
      "id": "7bcb03b9",
      "metadata": {
        "colab": {
          "base_uri": "https://localhost:8080/"
        },
        "id": "7bcb03b9",
        "outputId": "c8c635d4-fa61-4508-e5e3-571082849f84"
      },
      "outputs": [
        {
          "output_type": "stream",
          "name": "stdout",
          "text": [
            "m1:  [0.017 0.022 0.029]\n",
            "m2:  [0.176 0.231 0.3  ]\n",
            "m3:  [0.118 0.16  0.218]\n",
            "m4:  [0.052 0.076 0.112]\n",
            "m5:  [0.025 0.033 0.045]\n",
            "m6:  [0.028 0.039 0.055]\n",
            "m7:  [0.014 0.018 0.025]\n",
            "m8:  [0.101 0.142 0.202]\n",
            "m9:  [0.208 0.279 0.366]\n"
          ]
        }
      ],
      "source": [
        "# Fuzzy Weigths (Extensões Sintéticas)\n",
        "for i in range(0, len(fuzzy_weights)):\n",
        "  print('m'+str(i+1)+': ', np.around(fuzzy_weights[i], 3))"
      ]
    },
    {
      "cell_type": "code",
      "execution_count": null,
      "id": "56948541",
      "metadata": {
        "colab": {
          "base_uri": "https://localhost:8080/"
        },
        "id": "56948541",
        "outputId": "65c3bb4e-a74e-4a18-84ce-2fb66cda21ec"
      },
      "outputs": [
        {
          "output_type": "stream",
          "name": "stdout",
          "text": [
            "m1:  0.023\n",
            "m2:  0.236\n",
            "m3:  0.165\n",
            "m4:  0.08\n",
            "m5:  0.034\n",
            "m6:  0.041\n",
            "m7:  0.019\n",
            "m8:  0.148\n",
            "m9:  0.284\n"
          ]
        }
      ],
      "source": [
        "# Crisp Weigths\n",
        "for i in range(0, len(defuzzified_weights)):\n",
        "  print('m'+str(i+1)+': ', round(defuzzified_weights[i], 3))"
      ]
    },
    {
      "cell_type": "code",
      "execution_count": null,
      "id": "98564712",
      "metadata": {
        "colab": {
          "base_uri": "https://localhost:8080/"
        },
        "id": "98564712",
        "outputId": "85f77d35-cb30-43cf-91fb-9b24b951a89c"
      },
      "outputs": [
        {
          "output_type": "stream",
          "name": "stdout",
          "text": [
            "m1:  0.022\n",
            "m2:  0.229\n",
            "m3:  0.161\n",
            "m4:  0.077\n",
            "m5:  0.033\n",
            "m6:  0.039\n",
            "m7:  0.018\n",
            "m8:  0.144\n",
            "m9:  0.276\n"
          ]
        }
      ],
      "source": [
        "# Normalized Weigths\n",
        "for i in range(0, len(normalized_weights)):\n",
        "  print('m'+str(i+1)+': ', round(normalized_weights[i], 3))"
      ]
    },
    {
      "cell_type": "code",
      "execution_count": null,
      "id": "db61756d",
      "metadata": {
        "colab": {
          "base_uri": "https://localhost:8080/"
        },
        "id": "db61756d",
        "outputId": "60703e65-87c1-4b72-eea8-e588e1ade8cf"
      },
      "outputs": [
        {
          "output_type": "stream",
          "name": "stdout",
          "text": [
            "RC: 0.05\n",
            "The solution is consistent\n"
          ]
        }
      ],
      "source": [
        "# Consistency Ratio\n",
        "print('RC: ' + str(round(rc, 2)))\n",
        "if (rc > 0.10):\n",
        "  print('The solution is inconsistent, the pairwise comparisons must be reviewed')\n",
        "else:\n",
        "  print('The solution is consistent')"
      ]
    },
    {
      "cell_type": "markdown",
      "id": "0d24f8c5",
      "metadata": {
        "id": "0d24f8c5"
      },
      "source": [
        "Bugs:"
      ]
    },
    {
      "cell_type": "code",
      "execution_count": null,
      "id": "b4fd686d",
      "metadata": {
        "id": "b4fd686d"
      },
      "outputs": [],
      "source": [
        "# Dataset\n",
        "dataset3 = list([\n",
        "[(1, 1, 1),(1/8, 1/7, 1/6),(1/6, 1/5, 1/4),(1/6, 1/5, 1/4),(1/4, 1/3, 1/2),(1/4, 1/3, 1/2),(1, 1, 1),(1/8, 1/7, 1/6),(1/9, 1/9, 1/9)],\n",
        "[(6,7,8),(1, 1, 1),(2,3,4),(4,5,6),(6,7,8),(6,7,8),(6,7,8),(2,3,4),(1/4, 1/3, 1/2)],\n",
        "[(4,5,6),(1/4, 1/3, 1/2),(1, 1, 1),(2,3,4),(4,5,6),(4,5,6),(6,7,8),(1, 1, 1),(1/4, 1/3, 1/2)],\n",
        "[(4,5,6),(1/6, 1/5, 1/4),(1/4, 1/3, 1/2),(1, 1, 1),(2,3,4),(1, 1, 1),(6,7,8),(1/4, 1/3, 1/2),(1/6, 1/5, 1/4)],\n",
        "[(2,3,4),(1/8, 1/7, 1/6),(1/6, 1/5, 1/4),(1/4, 1/3, 1/2),(1, 1, 1),(1, 1, 1),(2,3,4),(1/6, 1/5, 1/4),(1/8, 1/7, 1/6)],\n",
        "[(2,3,4),(1/8, 1/7, 1/6),(1/6, 1/5, 1/4),(1, 1, 1),(1, 1, 1),(1, 1, 1),(2,3,4),(1/6, 1/5, 1/4),(1/8, 1/7, 1/6)],\n",
        "[(1, 1, 1),(1/8, 1/7, 1/6),(1/8, 1/7, 1/6),(1/8, 1/7, 1/6),(1/4, 1/3, 1/2),(1/4, 1/3, 1/2),(1, 1, 1),(1/8, 1/7, 1/6),(1/9, 1/9, 1/9)],\n",
        "[(6,7,8),(1/4, 1/3, 1/2),(1, 1, 1),(2,3,4),(4,5,6),(4,5,6),(6,7,8),(1, 1, 1),(1/4, 1/3, 1/2)],\n",
        "[(9,9,9),(2,3,4),(2,3,4),(4,5,6),(6,7,8),(6,7,8),(9,9,9),(2,3,4),(1, 1, 1)]\n",
        "])"
      ]
    },
    {
      "cell_type": "code",
      "execution_count": null,
      "id": "340fb1ca",
      "metadata": {
        "id": "340fb1ca"
      },
      "outputs": [],
      "source": [
        "# Call Fuzzy AHP Function\n",
        "fuzzy_weights, defuzzified_weights, normalized_weights, rc = fahp(dataset3)"
      ]
    },
    {
      "cell_type": "code",
      "execution_count": null,
      "id": "3d54dcce",
      "metadata": {
        "colab": {
          "base_uri": "https://localhost:8080/"
        },
        "id": "3d54dcce",
        "outputId": "876db522-9a7b-4d81-929b-b979f8389b39"
      },
      "outputs": [
        {
          "output_type": "stream",
          "name": "stdout",
          "text": [
            "m1:  [0.015 0.02  0.029]\n",
            "m2:  [0.156 0.231 0.338]\n",
            "m3:  [0.093 0.135 0.2  ]\n",
            "m4:  [0.046 0.066 0.099]\n",
            "m5:  [0.025 0.037 0.054]\n",
            "m6:  [0.03  0.042 0.059]\n",
            "m7:  [0.014 0.019 0.026]\n",
            "m8:  [0.097 0.14  0.207]\n",
            "m9:  [0.215 0.311 0.438]\n"
          ]
        }
      ],
      "source": [
        "# Fuzzy Weigths (Extensões Sintéticas)\n",
        "for i in range(0, len(fuzzy_weights)):\n",
        "  print('m'+str(i+1)+': ', np.around(fuzzy_weights[i], 3))"
      ]
    },
    {
      "cell_type": "code",
      "execution_count": null,
      "id": "e0411dfa",
      "metadata": {
        "colab": {
          "base_uri": "https://localhost:8080/"
        },
        "id": "e0411dfa",
        "outputId": "c5097ae7-49cf-450e-b749-9bc302f2474e"
      },
      "outputs": [
        {
          "output_type": "stream",
          "name": "stdout",
          "text": [
            "m1:  0.021\n",
            "m2:  0.242\n",
            "m3:  0.143\n",
            "m4:  0.07\n",
            "m5:  0.039\n",
            "m6:  0.043\n",
            "m7:  0.02\n",
            "m8:  0.148\n",
            "m9:  0.321\n"
          ]
        }
      ],
      "source": [
        "# Crisp Weigths\n",
        "for i in range(0, len(defuzzified_weights)):\n",
        "  print('m'+str(i+1)+': ', round(defuzzified_weights[i], 3))"
      ]
    },
    {
      "cell_type": "code",
      "execution_count": null,
      "id": "0dfeef4c",
      "metadata": {
        "colab": {
          "base_uri": "https://localhost:8080/"
        },
        "id": "0dfeef4c",
        "outputId": "bd5af626-11c0-4d93-db7f-3590b0bb0323"
      },
      "outputs": [
        {
          "output_type": "stream",
          "name": "stdout",
          "text": [
            "m1:  0.02\n",
            "m2:  0.231\n",
            "m3:  0.136\n",
            "m4:  0.067\n",
            "m5:  0.037\n",
            "m6:  0.041\n",
            "m7:  0.019\n",
            "m8:  0.141\n",
            "m9:  0.307\n"
          ]
        }
      ],
      "source": [
        "# Normalized Weigths\n",
        "for i in range(0, len(normalized_weights)):\n",
        "  print('m'+str(i+1)+': ', round(normalized_weights[i], 3))"
      ]
    },
    {
      "cell_type": "code",
      "execution_count": null,
      "id": "0354524d",
      "metadata": {
        "colab": {
          "base_uri": "https://localhost:8080/"
        },
        "id": "0354524d",
        "outputId": "a9fcdb09-8ce4-4fa8-fdd7-6701202b352f"
      },
      "outputs": [
        {
          "output_type": "stream",
          "name": "stdout",
          "text": [
            "RC: 0.06\n",
            "The solution is consistent\n"
          ]
        }
      ],
      "source": [
        "# Consistency Ratio\n",
        "print('RC: ' + str(round(rc, 2)))\n",
        "if (rc > 0.10):\n",
        "  print('The solution is inconsistent, the pairwise comparisons must be reviewed')\n",
        "else:\n",
        "  print('The solution is consistent')"
      ]
    },
    {
      "cell_type": "markdown",
      "id": "ab727a30",
      "metadata": {
        "id": "ab727a30"
      },
      "source": [
        "Plagio/similaridade:"
      ]
    },
    {
      "cell_type": "code",
      "execution_count": null,
      "id": "60bcb83a",
      "metadata": {
        "id": "60bcb83a"
      },
      "outputs": [],
      "source": [
        "# Dataset\n",
        "dataset4 = list([\n",
        "[(1, 1, 1),(1/8, 1/7, 1/6),(1, 1, 1),(1, 1, 1),(4,5,6),(4,5,6),(1, 1, 1),(2,3,4),(1, 1, 1)],\n",
        "[(6,7,8),(1, 1, 1),(1, 1, 1),(1, 1, 1),(4,5,6),(4,5,6),(1, 1, 1),(2,3,4),(1, 1, 1)],\n",
        "[(1, 1, 1),(1, 1, 1),(1, 1, 1),(1, 1, 1),(4,5,6),(4,5,6),(1, 1, 1),(1, 1, 1),(1/4, 1/3, 1/2)],\n",
        "[(1, 1, 1),(1, 1, 1),(1, 1, 1),(1, 1, 1),(2,3,4),(2,3,4),(1, 1, 1),(1, 1, 1),(1/4, 1/3, 1/2)],\n",
        "[(1/6, 1/5, 1/4),(1/6, 1/5, 1/4),(1/6, 1/5, 1/4),(1/4, 1/3, 1/2),(1, 1, 1),(1/4, 1/3, 1/2),(1/4, 1/3, 1/2),(1/4, 1/3, 1/2),(1/4, 1/3, 1/2)],\n",
        "[(1/6, 1/5, 1/4),(1/6, 1/5, 1/4),(1/6, 1/5, 1/4),(1/4, 1/3, 1/2),(2,3,4),(1, 1, 1),(1/4, 1/3, 1/2),(1/4, 1/3, 1/2),(1/6, 1/5, 1/4)],\n",
        "[(1, 1, 1),(1, 1, 1),(1, 1, 1),(1, 1, 1),(2,3,4),(2,3,4),(1, 1, 1),(1, 1, 1),(1, 1, 1)],\n",
        "[(1/4, 1/3, 1/2),(1/4, 1/3, 1/2),(1, 1, 1),(1, 1, 1),(2,3,4),(2,3,4),(1, 1, 1),(1, 1, 1),(1/4, 1/3, 1/2)],\n",
        "[(1, 1, 1),(1, 1, 1),(2,3,4),(2,3,4),(2,3,4),(4,5,6),(1, 1, 1),(2,3,4),(1, 1, 1)]\n",
        "])"
      ]
    },
    {
      "cell_type": "code",
      "execution_count": null,
      "id": "7a6d60ee",
      "metadata": {
        "id": "7a6d60ee"
      },
      "outputs": [],
      "source": [
        "# Call Fuzzy AHP Function\n",
        "fuzzy_weights, defuzzified_weights, normalized_weights, rc = fahp(dataset4)"
      ]
    },
    {
      "cell_type": "code",
      "execution_count": null,
      "id": "b6aca305",
      "metadata": {
        "colab": {
          "base_uri": "https://localhost:8080/"
        },
        "id": "b6aca305",
        "outputId": "6a429086-d9de-4c9e-b551-cc0b2b7fabfc"
      },
      "outputs": [
        {
          "output_type": "stream",
          "name": "stdout",
          "text": [
            "m1:  [0.098 0.124 0.155]\n",
            "m2:  [0.151 0.191 0.238]\n",
            "m3:  [0.098 0.12  0.15 ]\n",
            "m4:  [0.084 0.107 0.137]\n",
            "m5:  [0.021 0.03  0.047]\n",
            "m6:  [0.026 0.036 0.054]\n",
            "m7:  [0.098 0.121 0.148]\n",
            "m8:  [0.062 0.084 0.118]\n",
            "m9:  [0.134 0.185 0.246]\n"
          ]
        }
      ],
      "source": [
        "# Fuzzy Weigths (Extensões Sintéticas)\n",
        "for i in range(0, len(fuzzy_weights)):\n",
        "  print('m'+str(i+1)+': ', np.around(fuzzy_weights[i], 3))"
      ]
    },
    {
      "cell_type": "code",
      "execution_count": null,
      "id": "f7e95373",
      "metadata": {
        "id": "f7e95373",
        "outputId": "d4a29fb8-82fa-4c35-bb9d-4cc891ac18cc",
        "colab": {
          "base_uri": "https://localhost:8080/"
        }
      },
      "outputs": [
        {
          "output_type": "stream",
          "name": "stdout",
          "text": [
            "m1:  0.126\n",
            "m2:  0.193\n",
            "m3:  0.123\n",
            "m4:  0.11\n",
            "m5:  0.033\n",
            "m6:  0.039\n",
            "m7:  0.123\n",
            "m8:  0.088\n",
            "m9:  0.188\n"
          ]
        }
      ],
      "source": [
        "# Crisp Weigths\n",
        "for i in range(0, len(defuzzified_weights)):\n",
        "  print('m'+str(i+1)+': ', round(defuzzified_weights[i], 3))"
      ]
    },
    {
      "cell_type": "code",
      "execution_count": null,
      "id": "dd75bd98",
      "metadata": {
        "id": "dd75bd98",
        "outputId": "732918d1-9eff-4156-b5dd-58f1dc742fbd",
        "colab": {
          "base_uri": "https://localhost:8080/"
        }
      },
      "outputs": [
        {
          "output_type": "stream",
          "name": "stdout",
          "text": [
            "m1:  0.123\n",
            "m2:  0.189\n",
            "m3:  0.12\n",
            "m4:  0.107\n",
            "m5:  0.032\n",
            "m6:  0.038\n",
            "m7:  0.12\n",
            "m8:  0.086\n",
            "m9:  0.184\n"
          ]
        }
      ],
      "source": [
        "# Normalized Weigths\n",
        "for i in range(0, len(normalized_weights)):\n",
        "  print('m'+str(i+1)+': ', round(normalized_weights[i], 3))"
      ]
    },
    {
      "cell_type": "code",
      "execution_count": null,
      "id": "af2d0edc",
      "metadata": {
        "id": "af2d0edc",
        "outputId": "b5f1225c-0bf6-41dd-fcc3-be8c78bc8b7e",
        "colab": {
          "base_uri": "https://localhost:8080/"
        }
      },
      "outputs": [
        {
          "output_type": "stream",
          "name": "stdout",
          "text": [
            "RC: 0.08\n",
            "The solution is consistent\n"
          ]
        }
      ],
      "source": [
        "# Consistency Ratio\n",
        "print('RC: ' + str(round(rc, 2)))\n",
        "if (rc > 0.10):\n",
        "  print('The solution is inconsistent, the pairwise comparisons must be reviewed')\n",
        "else:\n",
        "  print('The solution is consistent')"
      ]
    },
    {
      "cell_type": "markdown",
      "id": "69f5dc1d",
      "metadata": {
        "id": "69f5dc1d"
      },
      "source": [
        "Licença de software indevida:"
      ]
    },
    {
      "cell_type": "code",
      "execution_count": null,
      "id": "0fe304c3",
      "metadata": {
        "id": "0fe304c3"
      },
      "outputs": [],
      "source": [
        "# Dataset\n",
        "dataset5 = list([\n",
        "[(1, 1, 1),(4,5,6),(4,5,6),(2,3,4),(6,7,8),(6,7,8),(4,5,6),(6,7,8),(1/4, 1/3, 1/2)],\n",
        "[(1/6, 1/5, 1/4),(1, 1, 1),(1, 1, 1),(1/4, 1/3, 1/2),(4,5,6),(4,5,6),(2,3,4),(4,5,6),(1/8, 1/7, 1/6)],\n",
        "[(1/6, 1/5, 1/4),(1, 1, 1),(1, 1, 1),(1/6, 1/5, 1/4),(4,5,6),(4,5,6),(1, 1, 1),(4,5,6),(1/8, 1/7, 1/6)],\n",
        "[(1/4, 1/3, 1/2),(2,3,4),(4,5,6),(1, 1, 1),(6,7,8),(6,7,8),(4,5,6),(6,7,8),(1/6, 1/5, 1/4)],\n",
        "[(1/8, 1/7, 1/6),(1/6, 1/5, 1/4),(1/6, 1/5, 1/4),(1/8, 1/7, 1/6),(1, 1, 1),(1, 1, 1),(1/4, 1/3, 1/2),(1, 1, 1),(1/9, 1/9, 1/9)],\n",
        "[(1/8, 1/7, 1/6),(1/6, 1/5, 1/4),(1/6, 1/5, 1/4),(1/8, 1/7, 1/6),(1, 1, 1),(1, 1, 1),(1/4, 1/3, 1/2),(1, 1, 1),(1/9, 1/9, 1/9)],\n",
        "[(1/6, 1/5, 1/4),(1/4, 1/3, 1/2),(1, 1, 1),(1/6, 1/5, 1/4),(2,3,4),(2,3,4),(1, 1, 1),(2,3,4),(1/8, 1/7, 1/6)],\n",
        "[(1/8, 1/7, 1/6),(1/6, 1/5, 1/4),(1/6, 1/5, 1/4),(1/8, 1/7, 1/6),(1, 1, 1),(1, 1, 1),(1/4, 1/3, 1/2),(1, 1, 1),(1/9, 1/9, 1/9)],\n",
        "[(2,3,4),(6,7,8),(6,7,8),(4,5,6),(9,9,9),(9,9,9),(6,7,8),(9,9,9),(1, 1, 1)]\n",
        "])"
      ]
    },
    {
      "cell_type": "code",
      "execution_count": null,
      "id": "79774fbb",
      "metadata": {
        "id": "79774fbb"
      },
      "outputs": [],
      "source": [
        "# Call Fuzzy AHP Function\n",
        "fuzzy_weights, defuzzified_weights, normalized_weights, rc = fahp(dataset5)"
      ]
    },
    {
      "cell_type": "code",
      "execution_count": null,
      "id": "531af5c3",
      "metadata": {
        "id": "531af5c3",
        "outputId": "1428ce6d-ec59-482f-bf25-883dc07e74c9",
        "colab": {
          "base_uri": "https://localhost:8080/"
        }
      },
      "outputs": [
        {
          "output_type": "stream",
          "name": "stdout",
          "text": [
            "m1:  [0.157 0.222 0.313]\n",
            "m2:  [0.056 0.078 0.11 ]\n",
            "m3:  [0.05  0.065 0.087]\n",
            "m4:  [0.11  0.155 0.22 ]\n",
            "m5:  [0.017 0.021 0.029]\n",
            "m6:  [0.017 0.021 0.029]\n",
            "m7:  [0.034 0.049 0.071]\n",
            "m8:  [0.017 0.021 0.029]\n",
            "m9:  [0.28  0.365 0.472]\n"
          ]
        }
      ],
      "source": [
        "# Fuzzy Weigths (Extensões Sintéticas)\n",
        "for i in range(0, len(fuzzy_weights)):\n",
        "  print('m'+str(i+1)+': ', np.around(fuzzy_weights[i], 3))"
      ]
    },
    {
      "cell_type": "code",
      "execution_count": null,
      "id": "3558e845",
      "metadata": {
        "id": "3558e845",
        "outputId": "ac04f5ed-5fac-4dac-df1b-5c34255ed8b2",
        "colab": {
          "base_uri": "https://localhost:8080/"
        }
      },
      "outputs": [
        {
          "output_type": "stream",
          "name": "stdout",
          "text": [
            "m1:  0.231\n",
            "m2:  0.081\n",
            "m3:  0.067\n",
            "m4:  0.162\n",
            "m5:  0.022\n",
            "m6:  0.022\n",
            "m7:  0.051\n",
            "m8:  0.022\n",
            "m9:  0.372\n"
          ]
        }
      ],
      "source": [
        "# Crisp Weigths\n",
        "for i in range(0, len(defuzzified_weights)):\n",
        "  print('m'+str(i+1)+': ', round(defuzzified_weights[i], 3))"
      ]
    },
    {
      "cell_type": "code",
      "execution_count": null,
      "id": "9905632b",
      "metadata": {
        "id": "9905632b",
        "outputId": "7c2b7658-14d8-4d91-b531-5b241d5662c2",
        "colab": {
          "base_uri": "https://localhost:8080/"
        }
      },
      "outputs": [
        {
          "output_type": "stream",
          "name": "stdout",
          "text": [
            "m1:  0.224\n",
            "m2:  0.079\n",
            "m3:  0.065\n",
            "m4:  0.157\n",
            "m5:  0.022\n",
            "m6:  0.022\n",
            "m7:  0.05\n",
            "m8:  0.022\n",
            "m9:  0.361\n"
          ]
        }
      ],
      "source": [
        "# Normalized Weigths\n",
        "for i in range(0, len(normalized_weights)):\n",
        "  print('m'+str(i+1)+': ', round(normalized_weights[i], 3))"
      ]
    },
    {
      "cell_type": "code",
      "execution_count": null,
      "id": "ec6d5830",
      "metadata": {
        "id": "ec6d5830",
        "colab": {
          "base_uri": "https://localhost:8080/"
        },
        "outputId": "239efb11-51ae-4540-a1ca-2103fa150557"
      },
      "outputs": [
        {
          "output_type": "stream",
          "name": "stdout",
          "text": [
            "RC: 0.07\n",
            "The solution is consistent\n"
          ]
        }
      ],
      "source": [
        "# Consistency Ratio\n",
        "print('RC: ' + str(round(rc, 2)))\n",
        "if (rc > 0.10):\n",
        "  print('The solution is inconsistent, the pairwise comparisons must be reviewed')\n",
        "else:\n",
        "  print('The solution is consistent')"
      ]
    }
  ],
  "metadata": {
    "kernelspec": {
      "display_name": "Python 3 (ipykernel)",
      "language": "python",
      "name": "python3"
    },
    "language_info": {
      "codemirror_mode": {
        "name": "ipython",
        "version": 3
      },
      "file_extension": ".py",
      "mimetype": "text/x-python",
      "name": "python",
      "nbconvert_exporter": "python",
      "pygments_lexer": "ipython3",
      "version": "3.9.12"
    },
    "colab": {
      "provenance": [],
      "include_colab_link": true
    }
  },
  "nbformat": 4,
  "nbformat_minor": 5
}